{
 "cells": [
  {
   "cell_type": "code",
   "execution_count": 17,
   "metadata": {},
   "outputs": [
    {
     "name": "stdout",
     "output_type": "stream",
     "text": [
      "b0b59431184ed2f052e012457129b3465785799d32bf0c6575d36b163a99fc8d\n",
      "seller's validation time for 700 txs would be 1.18217278 milliseconds\n"
     ]
    }
   ],
   "source": [
    "# an example for the seller verify the statement\n",
    "from merkly.mtree import MerkleTree\n",
    "import hashlib\n",
    "import time\n",
    "\n",
    "res = []\n",
    "total_time = 0\n",
    "\n",
    "# tx num (leaves num) 300-400-500-600-700\n",
    "tx_num = 700\n",
    "for i in range(tx_num):\n",
    "    res.append(hashlib.sha256(str(i).encode()).hexdigest()+str(i))\n",
    "    \n",
    "# create a Merkle Tree\n",
    "mtree = MerkleTree(res)\n",
    "\n",
    "print(mtree.root)\n",
    "\n",
    "pr = mtree.proof(res[0])\n",
    "\n",
    "for j in range(1000):\n",
    "    start = time.time()\n",
    "    mtree.verify(pr, res[0])\n",
    "    end = time.time()\n",
    "    total_time += (end - start)\n",
    "\n",
    "print(f'seller\\'s validation time for {tx_num} txs would be {total_time:0.8f} milliseconds')"
   ]
  },
  {
   "cell_type": "code",
   "execution_count": null,
   "metadata": {},
   "outputs": [],
   "source": [
    "300txs (or leaves): 0.71649718 milliseconds\n",
    "400txs (or leaves): 0.90830040 milliseconds\n",
    "500txs (or leaves): 0.96573496 milliseconds\n",
    "600txs (or leaves): 1.25880647 milliseconds\n",
    "700txs (or leaves): 1.47515678 milliseconds"
   ]
  },
  {
   "cell_type": "code",
   "execution_count": 10,
   "metadata": {},
   "outputs": [
    {
     "name": "stdout",
     "output_type": "stream",
     "text": [
      "broker's merkle tree generation time for 700 leaves would be (totaltime/1k) 1.49567819 milliseconds\n"
     ]
    }
   ],
   "source": [
    "# an example for merkle tree calculation\n",
    "from merkly.mtree import MerkleTree\n",
    "import hashlib\n",
    "import time\n",
    "\n",
    "res = []\n",
    "total_time = 0\n",
    "\n",
    "# tx num 300-400-500-600-700\n",
    "tx_num = 700\n",
    "for i in range(tx_num):\n",
    "    res.append(hashlib.sha256(str(i).encode()).hexdigest()+str(i))\n",
    "    \n",
    "# create a Merkle Tree\n",
    "mtree = MerkleTree(res)\n",
    "root = mtree.root\n",
    "\n",
    "for j in range(1000):\n",
    "    start = time.time()\n",
    "    tTree = MerkleTree(res)\n",
    "#     if (root == tTree.root):\n",
    "    end = time.time()\n",
    "    total_time += (end - start)\n",
    "\n",
    "print(f'broker\\'s merkle tree generation time for {tx_num} leaves would be (totaltime/1k) {total_time:0.8f} milliseconds')"
   ]
  },
  {
   "cell_type": "code",
   "execution_count": null,
   "metadata": {},
   "outputs": [],
   "source": [
    "300 leaves/txs: 0.43894053 milliseconds\n",
    "400 leaves/txs: 0.57575846 milliseconds\n",
    "500 leaves/txs: 0.81360173 milliseconds\n",
    "600 leaves/txs: 0.93873787 milliseconds\n",
    "700 leaves/txs: 1.49567819 milliseconds"
   ]
  },
  {
   "cell_type": "code",
   "execution_count": 29,
   "metadata": {
    "scrolled": true
   },
   "outputs": [
    {
     "name": "stdout",
     "output_type": "stream",
     "text": [
      "nodes' recalculation time on hashchain for 700 txs would be (totaltime/1k) 0.99716592 milliseconds\n"
     ]
    }
   ],
   "source": [
    "# an example for hash chain recalculation\n",
    "import hashlib\n",
    "import time\n",
    "\n",
    "testStr = \"data1\"\n",
    "res = hashlib.sha256(testStr.encode()).hexdigest()\n",
    "ans = \"3ee3ad72034e9497742e7f8d0b44f9675c279bf32cb095462a9b45e05dcb4fb3\"\n",
    "total_time = 0\n",
    "\n",
    "# tx num 300-400-500-600-700\n",
    "tx_num = 700\n",
    "\n",
    "for j in range(1000):\n",
    "    start = time.time()\n",
    "    for i in range(tx_num):\n",
    "        res = hashlib.sha256(res.encode()).hexdigest()\n",
    "    end = time.time()\n",
    "    total_time += (end - start)\n",
    "\n",
    "print(f'nodes\\' recalculation time on hashchain for {tx_num} txs would be (totaltime/1k) {total_time:0.8f} milliseconds')"
   ]
  },
  {
   "cell_type": "code",
   "execution_count": null,
   "metadata": {},
   "outputs": [],
   "source": [
    "300 txs: 0.39951944 milliseconds\n",
    "400 txs: 0.50355434 milliseconds\n",
    "500 txs: 0.81787252 milliseconds\n",
    "600 txs: 0.87971520 milliseconds\n",
    "700 txs: 0.99716592 milliseconds"
   ]
  },
  {
   "cell_type": "code",
   "execution_count": 1,
   "metadata": {},
   "outputs": [
    {
     "name": "stdout",
     "output_type": "stream",
     "text": [
      "broker's Merkle tree generation time for 300 txs would be 0.00080585 milliseconds\n"
     ]
    }
   ],
   "source": [
    "#self-implemented Merkle Tree build\n",
    "import hashlib\n",
    "import time\n",
    "\n",
    "leaves = []\n",
    "next_level = []\n",
    "total_time = 0\n",
    "proof = []\n",
    "\n",
    "# tx num (leaves num) 300-400-500-600-700\n",
    "tx_num = 300\n",
    "\n",
    "for i in range(tx_num):\n",
    "    leaves.append(hashlib.sha256(str(i).encode()).hexdigest()+str(i))\n",
    "\n",
    "verify = leaves[0]\n",
    "\n",
    "# test the time for generate a Merkle Root for 1000 times in seconds\n",
    "# so the results would be milliseconds\n",
    "for _ in range(1000):    \n",
    "    start = time.time()\n",
    "    # create a Merkle Tree\n",
    "    while len(leaves) > 1:\n",
    "        next_level = []\n",
    "        #proof.append(leaves[1])\n",
    "        for i in range(0, len(leaves) - 2, 2):\n",
    "            hash1 = leaves[i]\n",
    "            hash2 = leaves[i+1] \n",
    "            combined_hash = hashlib.sha256(hash1.encode() + hash2.encode()).hexdigest()\n",
    "            next_level.append(combined_hash)\n",
    "\n",
    "        if len(leaves) % 2:\n",
    "            next_level.append(hashlib.sha256(leaves[-1].encode() + leaves[-1].encode()).hexdigest())\n",
    "        else:\n",
    "            next_level.append(hashlib.sha256(leaves[i].encode() + leaves[i+1].encode()).hexdigest())\n",
    "        leaves = next_level\n",
    "    end = time.time()\n",
    "    total_time += (end - start)\n",
    "\n",
    "\n",
    "    \n",
    "print(f'broker\\'s Merkle tree generation time for {tx_num} txs would be {total_time:0.8f} milliseconds')"
   ]
  },
  {
   "cell_type": "code",
   "execution_count": 2,
   "metadata": {},
   "outputs": [
    {
     "name": "stdout",
     "output_type": "stream",
     "text": [
      "seller's Merkle proof validation time for 700 txs would be 0.01688838 milliseconds\n"
     ]
    }
   ],
   "source": [
    "#self-implemented Merkle Tree build\n",
    "import hashlib\n",
    "import time\n",
    "\n",
    "leaves = []\n",
    "next_level = []\n",
    "total_time = 0\n",
    "proof = []\n",
    "\n",
    "# tx num (leaves num) 300-400-500-600-700\n",
    "tx_num = 700\n",
    "\n",
    "for i in range(tx_num):\n",
    "    leaves.append(hashlib.sha256(str(i).encode()).hexdigest()+str(i))\n",
    "\n",
    "# set the first leaf as the tested leaf\n",
    "leaf = leaves[0]\n",
    "\n",
    "for _ in range(1000):    \n",
    "    # create a Merkle Tree and keep the first leaf's path in proof[]\n",
    "    while len(leaves) > 1:\n",
    "        next_level = []\n",
    "        proof.append(leaves[1])\n",
    "        for i in range(0, len(leaves) - 2, 2):\n",
    "            hash1 = leaves[i]\n",
    "            hash2 = leaves[i+1] \n",
    "            combined_hash = hashlib.sha256(hash1.encode() + hash2.encode()).hexdigest()\n",
    "            next_level.append(combined_hash)\n",
    "\n",
    "        if len(leaves) % 2:\n",
    "            next_level.append(hashlib.sha256(leaves[-1].encode() + leaves[-1].encode()).hexdigest())\n",
    "        else:\n",
    "            next_level.append(hashlib.sha256(leaves[i].encode() + leaves[i+1].encode()).hexdigest())\n",
    "        leaves = next_level\n",
    "\n",
    "# validate the Merkle Proof with a given set of hash values as a path\n",
    "# test the time for generate a Merkle Root for 1000 times in seconds\n",
    "# so the results would be milliseconds\n",
    "for _ in range(1000):\n",
    "    start = time.time()\n",
    "    verify = leaf\n",
    "    for i in range(len(proof)):\n",
    "        verify = hashlib.sha256(verify.encode() + proof[i].encode()).hexdigest()\n",
    "    if verify == leaves[0]:\n",
    "        end = time.time()\n",
    "        total_time += (end - start)\n",
    "        \n",
    "print(f'seller\\'s Merkle proof validation time for {tx_num} txs would be {total_time:0.8f} milliseconds')"
   ]
  },
  {
   "cell_type": "code",
   "execution_count": null,
   "metadata": {},
   "outputs": [],
   "source": []
  }
 ],
 "metadata": {
  "kernelspec": {
   "display_name": "Python 3",
   "language": "python",
   "name": "python3"
  },
  "language_info": {
   "codemirror_mode": {
    "name": "ipython",
    "version": 3
   },
   "file_extension": ".py",
   "mimetype": "text/x-python",
   "name": "python",
   "nbconvert_exporter": "python",
   "pygments_lexer": "ipython3",
   "version": "3.8.3"
  }
 },
 "nbformat": 4,
 "nbformat_minor": 2
}
